{
 "cells": [
  {
   "cell_type": "code",
   "execution_count": null,
   "id": "05a87cdb-6f68-4889-9cd2-cce9f33688f3",
   "metadata": {},
   "outputs": [],
   "source": [
    "\n",
    "# --- USO ---\n",
    "# 1) Probar con URL (si apunta a PDF u otro no imagen, verás el error)\n",
    "# predict_any(image_url=\"https://www.gastronomiavasca.net/uploads/image/file/3268/salmon.jpg\")\n",
    "# predict_any(image_url=\"https://example.com/archivo.pdf\")\n",
    "\n",
    "# 2) Probar con archivo local (JPG/PNG)\n",
    "# predict_any(image_path=r\"C:\\Users\\galla\\OneDrive\\Escritorio\\UDD\\MAGISTER\\4to trimestre\\Vision computacional\\Tareas\\Tarea4\\outPath\\val\\infected_143.png\")\n"
   ]
  },
  {
   "cell_type": "code",
   "execution_count": 2,
   "id": "28743531-fd9a-49bb-b2a3-29b263b1fc50",
   "metadata": {},
   "outputs": [
    {
     "ename": "ModuleNotFoundError",
     "evalue": "No module named 'client'",
     "output_type": "error",
     "traceback": [
      "\u001b[1;31m---------------------------------------------------------------------------\u001b[0m",
      "\u001b[1;31mModuleNotFoundError\u001b[0m                       Traceback (most recent call last)",
      "Cell \u001b[1;32mIn[2], line 1\u001b[0m\n\u001b[1;32m----> 1\u001b[0m \u001b[38;5;28;01mfrom\u001b[39;00m \u001b[38;5;21;01mclient\u001b[39;00m \u001b[38;5;28;01mimport\u001b[39;00m predict_any\n",
      "\u001b[1;31mModuleNotFoundError\u001b[0m: No module named 'client'"
     ]
    }
   ],
   "source": [
    "from client import predict_any"
   ]
  },
  {
   "cell_type": "code",
   "execution_count": null,
   "id": "2f0cb0ed-d694-48f4-8ebd-2da8a93c398c",
   "metadata": {},
   "outputs": [],
   "source": [
    "predict_any(image_url=\"https://www.gastronomiavasca.net/uploads/image/file/3268/salmon.jpg\")"
   ]
  },
  {
   "cell_type": "code",
   "execution_count": null,
   "id": "4adf637d-368e-443d-bc63-328a57c631d5",
   "metadata": {},
   "outputs": [],
   "source": [
    " predict_any(image_path=r\"C:/Users/galla/OneDrive/Documentos/GitHub/Tarea-2/Test/test_data/test.png\")"
   ]
  },
  {
   "cell_type": "code",
   "execution_count": null,
   "id": "79b5e89c-588b-4b67-928b-d1889dc521f5",
   "metadata": {},
   "outputs": [],
   "source": [
    "predict_any(image_path=r\"C:/Users/galla/OneDrive/Documentos/GitHub/Tarea-2/Test/test_data/test.pdf\")"
   ]
  },
  {
   "cell_type": "code",
   "execution_count": null,
   "id": "3d6e34e2-04bb-404a-8ec4-79c7e0d4045f",
   "metadata": {},
   "outputs": [],
   "source": [
    "predict_any(image_url=\"https://datosabiertos.mineduc.cl/wp-content/uploads/2025/04/Rendimiento_2024.rar\")"
   ]
  }
 ],
 "metadata": {
  "kernelspec": {
   "display_name": "Python 3 (ipykernel)",
   "language": "python",
   "name": "python3"
  },
  "language_info": {
   "codemirror_mode": {
    "name": "ipython",
    "version": 3
   },
   "file_extension": ".py",
   "mimetype": "text/x-python",
   "name": "python",
   "nbconvert_exporter": "python",
   "pygments_lexer": "ipython3",
   "version": "3.11.7"
  }
 },
 "nbformat": 4,
 "nbformat_minor": 5
}
