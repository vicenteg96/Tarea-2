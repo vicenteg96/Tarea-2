{
 "cells": [
  {
   "cell_type": "code",
   "execution_count": null,
   "id": "a42b520f-ce92-4831-be2c-278f8b15eee6",
   "metadata": {
    "scrolled": true
   },
   "outputs": [],
   "source": [
    "#pip install -r requirements.txt"
   ]
  },
  {
   "cell_type": "code",
   "execution_count": 1,
   "id": "a2e76bef-a55e-4158-8ac8-f23ee0b3df5d",
   "metadata": {},
   "outputs": [
    {
     "name": "stderr",
     "output_type": "stream",
     "text": [
      "INFO:     Started server process [592]\n",
      "INFO:     Waiting for application startup.\n"
     ]
    },
    {
     "name": "stdout",
     "output_type": "stream",
     "text": [
      "WARNING:tensorflow:From C:\\Users\\galla\\anaconda3\\Lib\\site-packages\\keras\\src\\backend.py:1398: The name tf.executing_eagerly_outside_functions is deprecated. Please use tf.compat.v1.executing_eagerly_outside_functions instead.\n",
      "\n",
      "WARNING:tensorflow:From C:\\Users\\galla\\anaconda3\\Lib\\site-packages\\keras\\src\\layers\\pooling\\max_pooling2d.py:161: The name tf.nn.max_pool is deprecated. Please use tf.nn.max_pool2d instead.\n",
      "\n"
     ]
    },
    {
     "name": "stderr",
     "output_type": "stream",
     "text": [
      "INFO:     Application startup complete.\n",
      "ERROR:    [Errno 10048] error while attempting to bind on address ('127.0.0.1', 8000): solo se permite un uso de cada dirección de socket (protocolo/dirección de red/puerto)\n",
      "INFO:     Waiting for application shutdown.\n",
      "INFO:     Application shutdown complete.\n"
     ]
    },
    {
     "name": "stdout",
     "output_type": "stream",
     "text": [
      "[startup] Modelo cargado OK\n",
      "Servidor local en http://127.0.0.1:8000\n"
     ]
    }
   ],
   "source": [
    "import threading, time, uvicorn\n",
    "\n",
    "def run():\n",
    "    uvicorn.run(\"main:app\", host=\"127.0.0.1\", port=8000, reload=False, log_level=\"info\")\n",
    "\n",
    "t = threading.Thread(target=run, daemon=True)\n",
    "t.start()\n",
    "time.sleep(2)  # espera a que arranque\n",
    "print(\"Servidor local en http://127.0.0.1:8000\")\n"
   ]
  },
  {
   "cell_type": "code",
   "execution_count": 8,
   "id": "d4f28471-4757-4ef8-a1bf-9c3d5d772600",
   "metadata": {},
   "outputs": [],
   "source": [
    "import requests, base64\n",
    "from PIL import Image\n",
    "from io import BytesIO\n",
    "\n",
    "URL_API = \"http://127.0.0.1:8000/predict\"  # <— local\n",
    "\n",
    "def predict_any(image_url: str | None = None, image_path: str | None = None, timeout: int = 20):\n",
    "    if bool(image_url) == bool(image_path):\n",
    "        raise ValueError(\"Proporciona exactamente uno: image_url o image_path.\")\n",
    "\n",
    "    # Armar payload\n",
    "    if image_url:\n",
    "        payload = {\"image_url\": image_url}\n",
    "    else:\n",
    "        with open(image_path, \"rb\") as f:\n",
    "            img_b64 = base64.b64encode(f.read()).decode(\"utf-8\")\n",
    "        payload = {\"image_base64\": img_b64}\n",
    "\n",
    "    # Llamada\n",
    "    try:\n",
    "        r = requests.post(URL_API, json=payload, timeout=timeout)\n",
    "    except requests.RequestException as e:\n",
    "        print(\"Error de red:\", e)\n",
    "        return\n",
    "\n",
    "    print(\"HTTP\", r.status_code)\n",
    "\n",
    "    # Intentar parsear JSON\n",
    "    try:\n",
    "        data = r.json()\n",
    "    except ValueError:\n",
    "        print(\"Respuesta no JSON:\", r.text[:400])\n",
    "        return\n",
    "\n",
    "    # Manejo universal\n",
    "    if r.ok:\n",
    "        print(\"Label:\", data.get(\"label\"))\n",
    "        print(\"Decision:\", data.get(\"decision\"))\n",
    "        print(\"Score:\", data.get(\"score\"))\n",
    "        print(\"Probabilidades:\", data.get(\"probs\"))\n",
    "\n",
    "        thumb_b64 = data.get(\"image_thumb_base64\")\n",
    "        if thumb_b64:\n",
    "            try:\n",
    "                img = Image.open(BytesIO(base64.b64decode(thumb_b64)))\n",
    "                display(img)\n",
    "            except Exception as e:\n",
    "                print(\"No se pudo mostrar la miniatura:\", e)\n",
    "    else:\n",
    "        print(\"Error:\", data.get(\"detail\", data))\n"
   ]
  },
  {
   "cell_type": "code",
   "execution_count": 9,
   "id": "5c15b50d-342c-425e-866f-d90bdd0e02f8",
   "metadata": {},
   "outputs": [
    {
     "name": "stdout",
     "output_type": "stream",
     "text": [
      "HTTP 200\n",
      "Label: fresh\n",
      "Decision: fresh\n",
      "Score: 0.995426\n",
      "Probabilidades: {'fresh': 0.995426, 'infected': 0.004574}\n"
     ]
    },
    {
     "data": {
      "image/jpeg": "[encoded data removed]",
      "image/png": "[encoded data removed]",
      "text/plain": [
       "<PIL.JpegImagePlugin.JpegImageFile image mode=RGB size=128x68>"
      ]
     },
     "metadata": {},
     "output_type": "display_data"
    }
   ],
   "source": [
    "predict_any(image_url=\"https://www.gastronomiavasca.net/uploads/image/file/3268/salmon.jpg\")"
   ]
  },
  {
   "cell_type": "code",
   "execution_count": 10,
   "id": "a0624a6f-b972-475d-978e-fb010f822ba5",
   "metadata": {},
   "outputs": [
    {
     "name": "stdout",
     "output_type": "stream",
     "text": [
      "HTTP 200\n",
      "Label: infected\n",
      "Decision: infected\n",
      "Score: 0.786383\n",
      "Probabilidades: {'fresh': 0.213617, 'infected': 0.786383}\n"
     ]
    },
    {
     "data": {
      "image/jpeg": "[encoded data removed]",
      "image/png": "[encoded data removed]",
      "text/plain": [
       "<PIL.JpegImagePlugin.JpegImageFile image mode=RGB size=128x53>"
      ]
     },
     "metadata": {},
     "output_type": "display_data"
    }
   ],
   "source": [
    " predict_any(image_path=r\"C:\\Users\\galla\\OneDrive\\Escritorio\\UDD\\MAGISTER\\4to trimestre\\Vision computacional\\Tareas\\Tarea4\\outPath\\val\\infected_143.png\")"
   ]
  },
  {
   "cell_type": "code",
   "execution_count": 11,
   "id": "f614835e-a693-41f5-9455-88f47c92565b",
   "metadata": {},
   "outputs": [
    {
     "name": "stdout",
     "output_type": "stream",
     "text": [
      "HTTP 422\n",
      "Error: [{'type': 'url_scheme', 'loc': ['body', 'image_url'], 'msg': \"URL scheme should be 'http' or 'https'\", 'input': 'C:/Users/galla/OneDrive/Escritorio/ER Rendimiento por alumno, bases Web.pdf', 'ctx': {'expected_schemes': \"'http' or 'https'\"}}]\n"
     ]
    }
   ],
   "source": [
    "predict_any(image_url=\"C:/Users/galla/OneDrive/Escritorio/ER Rendimiento por alumno, bases Web.pdf\")"
   ]
  },
  {
   "cell_type": "code",
   "execution_count": 12,
   "id": "0014605d-ef7e-456e-b537-88877a83aea5",
   "metadata": {},
   "outputs": [
    {
     "name": "stdout",
     "output_type": "stream",
     "text": [
      "Error de red: HTTPConnectionPool(host='127.0.0.1', port=8000): Read timed out. (read timeout=20)\n"
     ]
    }
   ],
   "source": [
    "predict_any(image_url=\"https://datosabiertos.mineduc.cl/wp-content/uploads/2025/04/Rendimiento_2024.rar\")"
   ]
  }
 ],
 "metadata": {
  "kernelspec": {
   "display_name": "Python 3 (ipykernel)",
   "language": "python",
   "name": "python3"
  },
  "language_info": {
   "codemirror_mode": {
    "name": "ipython",
    "version": 3
   },
   "file_extension": ".py",
   "mimetype": "text/x-python",
   "name": "python",
   "nbconvert_exporter": "python",
   "pygments_lexer": "ipython3",
   "version": "3.11.7"
  }
 },
 "nbformat": 4,
 "nbformat_minor": 5
}
