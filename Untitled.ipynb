{
 "cells": [
  {
   "cell_type": "code",
   "execution_count": 1,
   "id": "3b0b4ad0-9017-447e-a1ee-b71f60492d4e",
   "metadata": {},
   "outputs": [
    {
     "name": "stdout",
     "output_type": "stream",
     "text": [
      "200 {'ok': True, 'result': {'label': 'fresh', 'score': 0.9954262375831604, 'raw_probs': {'fresh': 0.9954262375831604, 'infected': 0.0045738210901618}}}\n"
     ]
    }
   ],
   "source": [
    "import requests\n",
    "\n",
    "resp = requests.post(\n",
    "    \"https://tarea-2-4ivb.onrender.com/predict\",\n",
    "    json={\"image_url\":\"https://www.gastronomiavasca.net/uploads/image/file/3268/salmon.jpg\"}\n",
    ")\n",
    "print(resp.status_code, resp.json())\n"
   ]
  }
 ],
 "metadata": {
  "kernelspec": {
   "display_name": "Python 3 (ipykernel)",
   "language": "python",
   "name": "python3"
  },
  "language_info": {
   "codemirror_mode": {
    "name": "ipython",
    "version": 3
   },
   "file_extension": ".py",
   "mimetype": "text/x-python",
   "name": "python",
   "nbconvert_exporter": "python",
   "pygments_lexer": "ipython3",
   "version": "3.11.7"
  }
 },
 "nbformat": 4,
 "nbformat_minor": 5
}
